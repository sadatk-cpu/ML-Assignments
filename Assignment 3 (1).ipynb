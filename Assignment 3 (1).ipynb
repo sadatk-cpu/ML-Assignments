{
 "cells": [
  {
   "cell_type": "code",
   "execution_count": 1,
   "metadata": {},
   "outputs": [
    {
     "name": "stdout",
     "output_type": "stream",
     "text": [
      "Division by zero is not possible: division by zero\n"
     ]
    }
   ],
   "source": [
    "a=5\n",
    "b=0\n",
    "try:\n",
    "    print(a/b)\n",
    "except Exception as e:\n",
    "    print(\"Division by zero is not possible:\",e)"
   ]
  },
  {
   "cell_type": "code",
   "execution_count": 2,
   "metadata": {},
   "outputs": [
    {
     "name": "stdout",
     "output_type": "stream",
     "text": [
      "Americans  play Baseball\n",
      "Americans  play Cricket\n",
      "Americans  watch Baseball\n",
      "Americans  watch Cricket\n",
      "Indians play Baseball\n",
      "Indians play Cricket\n",
      "Indians watch Baseball\n",
      "Indians watch Cricket\n"
     ]
    }
   ],
   "source": [
    "#2.\n",
    "#Implement a Python program to generate all sentences where subject is in [\"Americans\",\n",
    "#\"Indians\"] and verb is in [\"Play\", \"watch\"] and the object is in [\"Baseball\",\"cricket\"].\n",
    "\n",
    "subjects=[\"Americans \",\"Indians\"]\n",
    "verbs=[\"play\",\"watch\"]\n",
    "objects=[\"Baseball\",\"Cricket\"]\n",
    "\n",
    "All_sentences=[(sub+\" \"+ver+\" \"+obj) for sub in subjects for ver in verbs for obj in objects]\n",
    "for sentence in All_sentences:\n",
    "    print(sentence)"
   ]
  },
  {
   "cell_type": "code",
   "execution_count": 3,
   "metadata": {},
   "outputs": [
    {
     "name": "stdout",
     "output_type": "stream",
     "text": [
      "\n",
      "Alexandre- Theophile Vandermonde matrix:\n",
      "\n",
      "1\t1\t1\t1\t1\n",
      "16\t8\t4\t2\t1\n",
      "81\t27\t9\t3\t1\n",
      "256\t64\t16\t4\t1\n"
     ]
    }
   ],
   "source": [
    "def powers_of_matrix(vector, power):\n",
    "    return  [[ele**i for i in range(power-1,-1, -1)] for ele in vector]\n",
    " \n",
    "input_vector = [1,2,3,4]\n",
    "vector = [int(i) for i in input_vector]\n",
    "power = 5\n",
    "output = powers_of_matrix(vector, power)\n",
    "\n",
    "print(\"\\nAlexandre- Theophile Vandermonde matrix:\\n\")\n",
    "\n",
    "print(\"\\n\".join([\"\\t\".join([str(ele) for ele in row]) for row in output ]))"
   ]
  },
  {
   "cell_type": "code",
   "execution_count": null,
   "metadata": {},
   "outputs": [],
   "source": []
  }
 ],
 "metadata": {
  "kernelspec": {
   "display_name": "Python 3",
   "language": "python",
   "name": "python3"
  },
  "language_info": {
   "codemirror_mode": {
    "name": "ipython",
    "version": 3
   },
   "file_extension": ".py",
   "mimetype": "text/x-python",
   "name": "python",
   "nbconvert_exporter": "python",
   "pygments_lexer": "ipython3",
   "version": "3.7.3"
  }
 },
 "nbformat": 4,
 "nbformat_minor": 4
}
