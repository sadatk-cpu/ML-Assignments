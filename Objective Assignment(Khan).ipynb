{
 "cells": [
  {
   "cell_type": "markdown",
   "metadata": {},
   "source": [
    "1. c) By using a while loop.\n",
    "2. b) a generator function\n",
    "3. b) 1 9\n",
    "4. d) All of the above\n",
    "5. d) 50\n",
    "6. c) I got decorated I am ordinary\n",
    "7. d) @property\n",
    "8. b) getter(), setter() and delete()\n",
    "9. d) None of the above\n",
    "10. b) Both printHello() and the reference to the same object\n",
    "11. a=20\n",
    "12. A class is a blueprint for the object\n",
    "13. c) Java\n",
    "14. a) Initialises the class for use\n",
    "15. b) 1 1\n",
    "16. c)\n",
    "17. b) Multiple Inheritance\n",
    "18. d) All of the above\n",
    "19. b) 4 6\n",
    "20. c) opens the file for appending, at the end of file\n",
    "21. a) opens a file for reading\n",
    "22. b)\n",
    "23. \n",
    "24. c) Prints all the directories and files inside the given directory\n",
    "25. c) An exception is used to exclude a block of code in python.\n",
    "26. c) An exception is raised.\n",
    "27. b) 2.0\n",
    "28. c) Prints Two if the TypeError or ZeroDivisionError exception occurs.\n",
    "29. b) You can create the user-defined exception by deriving a class from Exception class.\n",
    "30. d) All of the above\n",
    "31. b) Python is awesome.\n",
    "32. b) None object\n",
    "33. b) Hello ('Frodo', 'Sauron')\n",
    "34. b) A function that calls itself.\n",
    "35. c) 25\n",
    "36. a) 10\n",
    "37. c)\n",
    "38. b) * operator\n",
    "39. b) (1, 3, 6)\n",
    "40. c) Nothing will be printed\n",
    "41. b) False\n",
    "42. a) 2   1\n",
    "43. a) Only for loop can have the optional else statement\n",
    "44. b) 10\n",
    "45. c) 4 is printed infinitely until the program closes\n",
    "46. b) Yes, for loop is more pythonic choice.\n",
    "47. d) All of the above.\n",
    "48. a) PYTHON\n",
    "49. c) It is used as the placeholder for future implementation of functions, loops, etc\n",
    "50. c) Any character such as the comma (,) or tab (\\t) that is used to separate the column data.\n",
    "51. a) The column names of the data.\n",
    "52. b) csv.reader(my_data, delimiter='\\t')\n",
    "53. b) The row data as a list\n",
    "54. d) Each key indicates the column index as an integer for where the value should go\n",
    "55. a) pandas.open_csv('hrdata.csv', 'r')\n",
    "56. a) pandas.read_csv('hrdata.csv', index_col='Name')\n",
    "57. b) open('dog_breeds.txt', 'r') c) open('dog_breeds.txt')\n",
    "58. animals/feline/\n",
    "59. open('jack_russell.png', 'rb') open('jack_russell.png', bytes=True)\n",
    "60. animals/../ursine/bears.gif\n",
    "61. a) Making sure that you use the .close() method before the end of the script\n",
    "62. \n",
    "63. c) .readlines()\n",
    "64. b) 1.7\n",
    "65. b) -2.97\n",
    "66. a) Positive numbers are rounded up, and negative numbers are rounded down.\n",
    "67. b) -0.04\n",
    "68. c) Round half up\n",
    "69. a) 4.6\n",
    "70. a) Diamond\n",
    "71. c) At least 3\n",
    "72. c) Class c.\n",
    "73. a) There won’t be any use of multiple inheritance\n",
    "74. a) No, because other classes must be abstract too\n",
    "75. d) Class which have more than one parent\n",
    "76. d) A and B\n",
    "77. a) Class at 1st level\n",
    "78. d) As many levels of inheritance as required\n",
    "79. \n",
    "80. d) Exceptions\n",
    "81. c) Runtime exceptions and other exceptions\n",
    "82. a) Try and catch\n",
    "83. b) A variable should be created to catch the exception\n",
    "84. c) IOExceptions\n",
    "85. d) Both base class and derived class may produce exceptions\n",
    "86. a) Then catch block of a derived class must be defined before the base class\n",
    "87. a) After derived class is not allowed by the compiler\n",
    "88. d) ClassNotFoundException\n",
    "89. a) Only the base class catch the blocks are important.\n",
    "90. c) Infinite loops\n",
    "91. a) Functions created to allocate the constant values to each object\n",
    "92. c) Having access to only the static members of a class.\n",
    "93. b) className -> functionName;\n",
    "94. d) Created and initialised, only once\n",
    "95. b) Static member functions can’t be overloaded.\n",
    "96. b) Can’t be declared volatile.\n",
    "97. c) Single colon.\n",
    "98. c) Those can be initialised within the class.\n",
    "99. d) Can’t be characters.\n",
    "100. c) Even if a class doesn’t contain any static member\n",
    "101. c) rPy provides lots of scientific routines that work on top of NumPy.\n",
    "102. a) reshape, resize.\n",
    "103. a) arrange\n",
    "104. d) All of the Mentioned\n",
    "105. b) column_stack.\n",
    "106. a) True\n",
    "107. b) copy.\n",
    "108. b) ix_.\n",
    "109. a) True\n",
    "110. d) all of the Mentioned\n",
    "111. c) setbufsize(size)\n",
    "112. b) In Numpy, universal functions are the instances of numpy.ufunction class\n",
    "113. a) .types\n",
    "114. b) ones_like\n",
    "115. c) The output of the ufunc is necessarily a ndarray, if all the input arguments are ndarrays\n",
    "116. c) setterstack.\n",
    "117. b) false\n",
    "118. c) frexp\n",
    "119. a) iscomplex.\n",
    "120. a) True\n",
    "121. c) value,size.\n",
    "122. d) All of the above mentioned.\n",
    "123. a) import pandas as pd\n",
    "124. a) DataFrame.\n",
    "125. c) Panel is generally 2D labeled, also size-mutable array\n",
    "126. a) numpy\n",
    "127. b) False\n",
    "128. c) Statsmodels.\n",
    "129. a) yhat\n",
    "130. a) True\n",
    "131. a) Quandl.\n",
    "132. a) Statsmodels provides powerful statistics, econometrics, analysis and modeling functionality that is out of panda’s scope\n",
    "133. a) pandaSDMX\n",
    "134. a) Blaze\n",
    "135. c) Spyder is a cross-platform Qt-based open-source R IDE\n",
    "136. b) freedapi\n",
    "137. b) False\n",
    "138. a) scikit-learn\n",
    "139. b) Seaborn\n",
    "140. a) True\n",
    "141. b) SparseArray\n",
    "142. d) All of the mentioned\n",
    "143. d) None of the mentioned\n",
    "144. a) SparseList\n",
    "145. a) to_array. append can accept scalar values or any 2-dimensional sequence\n",
    "146. a) SparseSeries.to_coo().\n",
    "147. ) False\n",
    "148. a) in.\n",
    "149. b)ix.\n",
    "150. a) True\n",
    "\n",
    "\n",
    "\n",
    "\n",
    "\n",
    "\n",
    "\n",
    "\n",
    "\n"
   ]
  },
  {
   "cell_type": "code",
   "execution_count": 25,
   "metadata": {},
   "outputs": [
    {
     "name": "stdout",
     "output_type": "stream",
     "text": [
      "4 6\n"
     ]
    }
   ],
   "source": [
    "class Point:\n",
    "    def __init__(self, x = 0, y = 0):\n",
    "        self.x = x\n",
    "        self.y = y\n",
    "    def __sub__(self, other):\n",
    "        x = self.x + other.x\n",
    "        y = self.y + other.y\n",
    "        return Point(x,y)\n",
    "p1 = Point(3, 4)\n",
    "p2 = Point(1, 2)\n",
    "result = p1-p2\n",
    "print(result.x, result.y)"
   ]
  },
  {
   "cell_type": "code",
   "execution_count": 1,
   "metadata": {},
   "outputs": [
    {
     "name": "stdout",
     "output_type": "stream",
     "text": [
      "1 1\n"
     ]
    }
   ],
   "source": [
    "class Point:\n",
    "    def __init__(self, x = 0, y = 0):\n",
    "        self.x = x+1\n",
    "        self.y = y+1\n",
    "p1 = Point()\n",
    "print(p1.x, p1.y)"
   ]
  },
  {
   "cell_type": "code",
   "execution_count": 10,
   "metadata": {},
   "outputs": [
    {
     "name": "stdout",
     "output_type": "stream",
     "text": [
      "2.0\n"
     ]
    }
   ],
   "source": [
    "number = 5.0\n",
    "try:\n",
    "    r = 10/number\n",
    "    print(r)\n",
    "except:\n",
    "    print(\"Oops! Error occurred.\")"
   ]
  },
  {
   "cell_type": "code",
   "execution_count": 7,
   "metadata": {},
   "outputs": [],
   "source": [
    "try:\n",
    "    pass\n",
    "except (TypeError, ZeroDivisionError):\n",
    "    print(\"Two\")"
   ]
  },
  {
   "cell_type": "code",
   "execution_count": 11,
   "metadata": {},
   "outputs": [
    {
     "name": "stdout",
     "output_type": "stream",
     "text": [
      "Python is awesome.\n"
     ]
    }
   ],
   "source": [
    "def printLine(text):\n",
    "    print(text, 'is awesome.')\n",
    "printLine('Python')"
   ]
  },
  {
   "cell_type": "code",
   "execution_count": 12,
   "metadata": {},
   "outputs": [
    {
     "name": "stdout",
     "output_type": "stream",
     "text": [
      "Hello ('Frodo', 'Sauron')\n"
     ]
    }
   ],
   "source": [
    "def greetPerson(*name):\n",
    "    print('Hello', name)\n",
    "greetPerson('Frodo', 'Sauron')"
   ]
  },
  {
   "cell_type": "code",
   "execution_count": 15,
   "metadata": {},
   "outputs": [
    {
     "name": "stdout",
     "output_type": "stream",
     "text": [
      "25\n"
     ]
    }
   ],
   "source": [
    "result = lambda x: x * x \n",
    "print(result(5))"
   ]
  },
  {
   "cell_type": "code",
   "execution_count": 18,
   "metadata": {},
   "outputs": [
    {
     "name": "stdout",
     "output_type": "stream",
     "text": [
      "10\n"
     ]
    }
   ],
   "source": [
    "def Foo(x):\n",
    "    if (x==1):\n",
    "        return 1\n",
    "    else:\n",
    "        return x+Foo(x-1)\n",
    "print(Foo(4))"
   ]
  },
  {
   "cell_type": "code",
   "execution_count": 21,
   "metadata": {},
   "outputs": [
    {
     "name": "stdout",
     "output_type": "stream",
     "text": [
      "3.141592653589793\n"
     ]
    }
   ],
   "source": [
    "from math import pi\n",
    "print(pi)"
   ]
  },
  {
   "cell_type": "code",
   "execution_count": 22,
   "metadata": {},
   "outputs": [
    {
     "name": "stdout",
     "output_type": "stream",
     "text": [
      "(1, 3, 6)\n"
     ]
    }
   ],
   "source": [
    "numbers = [1, 3, 6]\n",
    "newNumbers = tuple(map(lambda x: x , numbers))\n",
    "print(newNumbers)"
   ]
  },
  {
   "cell_type": "code",
   "execution_count": 26,
   "metadata": {},
   "outputs": [],
   "source": [
    "if None:\n",
    "    print(\"Hello\")"
   ]
  },
  {
   "cell_type": "code",
   "execution_count": 27,
   "metadata": {},
   "outputs": [
    {
     "name": "stdout",
     "output_type": "stream",
     "text": [
      "2\n",
      "1\n"
     ]
    }
   ],
   "source": [
    "for i in [1, 0]:\n",
    "    print(i+1)"
   ]
  },
  {
   "cell_type": "code",
   "execution_count": 28,
   "metadata": {},
   "outputs": [
    {
     "name": "stdout",
     "output_type": "stream",
     "text": [
      "10\n"
     ]
    }
   ],
   "source": [
    "i = sum = 0\n",
    "while i <= 4:\n",
    "    sum += i\n",
    "    i = i+1\n",
    "print(sum)"
   ]
  },
  {
   "cell_type": "code",
   "execution_count": 30,
   "metadata": {},
   "outputs": [
    {
     "name": "stdout",
     "output_type": "stream",
     "text": [
      "PYTHON"
     ]
    }
   ],
   "source": [
    "for char in 'PYTHON STRING':\n",
    "    if char == ' ':\n",
    "        break\n",
    "    print(char, end='')\n",
    "    if char == 'O':\n",
    "        continue"
   ]
  },
  {
   "cell_type": "code",
   "execution_count": null,
   "metadata": {},
   "outputs": [],
   "source": []
  },
  {
   "cell_type": "code",
   "execution_count": null,
   "metadata": {},
   "outputs": [],
   "source": []
  },
  {
   "cell_type": "code",
   "execution_count": null,
   "metadata": {},
   "outputs": [],
   "source": []
  },
  {
   "cell_type": "code",
   "execution_count": null,
   "metadata": {},
   "outputs": [],
   "source": []
  },
  {
   "cell_type": "code",
   "execution_count": null,
   "metadata": {},
   "outputs": [],
   "source": []
  },
  {
   "cell_type": "code",
   "execution_count": null,
   "metadata": {},
   "outputs": [],
   "source": []
  }
 ],
 "metadata": {
  "kernelspec": {
   "display_name": "Python 3",
   "language": "python",
   "name": "python3"
  },
  "language_info": {
   "codemirror_mode": {
    "name": "ipython",
    "version": 3
   },
   "file_extension": ".py",
   "mimetype": "text/x-python",
   "name": "python",
   "nbconvert_exporter": "python",
   "pygments_lexer": "ipython3",
   "version": "3.7.3"
  }
 },
 "nbformat": 4,
 "nbformat_minor": 4
}
